{
 "cells": [
  {
   "cell_type": "markdown",
   "metadata": {},
   "source": [
    "# **Data Breaches Tableau Visualization**"
   ]
  },
  {
   "cell_type": "markdown",
   "metadata": {
    "_cell_guid": "b1076dfc-b9ad-4769-8c92-a6c4dae69d19",
    "_uuid": "8f2839f25d086af736a60e9eeb907d3b93b6e0e5",
    "collapsed": true
   },
   "source": [
    "## **1.- Introduction**\n",
    "\n",
    "I have created an interactive [Tableau](https://en.wikipedia.org/wiki/Tableau_Software) dashboard using data breaches. The main question to be answered with the data visualization is the following: What quantities of records were compromised by important data breaches, in organizations and sectors, between 2004 and 2018, and what was the reason? Let's find out!\n"
   ]
  },
  {
   "cell_type": "markdown",
   "metadata": {},
   "source": [
    "## **2.- Data Dictionary**\n",
    "\n",
    "The data set has 270 observations and 11 variables. The data set includes the following columns:\n",
    "\n",
    "* **Entity**. Name of the organization (public or private) that had the breach. \n",
    "* **Alternative Name**. Other known names of the entity.\n",
    "* **Story**. Summary of what happened.\n",
    "* **Year**. Year of the breach.\n",
    "* **Records Lost**. Number of records that the breach compromised.\n",
    "* **Sector**. Organization's main sector (or field of business).\n",
    "* **Method of Leak**. Main cause of the breach.\n",
    "* **1st source (link)**. 1st url with more info about the breach.\n",
    "* **2nd source (link)**. 2nd url with more info about the breach.\n",
    "* **3rd source (link)**. 3rd url with more info about the breach.\n",
    "* **Source name**. Name of the source of news, official reports, blog, etc. included."
   ]
  },
  {
   "cell_type": "markdown",
   "metadata": {
    "_cell_guid": "79c7e3d0-c299-4dcb-8224-4455121ee9b0",
    "_uuid": "d629ff2d2480ee46fbb7e2d37f6b5fab8052498a",
    "collapsed": true
   },
   "source": [
    "## **3.- Data Visualization details**\n",
    "\n",
    "In this section we are going to describe some elements of the visualization:\n",
    "\n",
    "* The records lost for each entity are represented by the bubble chart. The sizes of the bubbles are determined by the values of records lost. \n",
    "* We can filter the bubble chart by selecting a method of leak, year or sector.\n",
    "* If we rest the pointer over a mark in the view,  it will be highlighted in the rest of the dashboard.\n",
    "* If we rest the pointer over an entity in the bubble chart,  we can view some context information about the data breach. "
   ]
  },
  {
   "cell_type": "markdown",
   "metadata": {
    "_uuid": "10ab5c96f27beed2c807f936591c959d3098e861"
   },
   "source": [
    "## **4.- Tableau dashboard**"
   ]
  },
  {
   "cell_type": "code",
   "execution_count": 1,
   "metadata": {
    "_uuid": "44beb926fc233cee4ed1b90e3e6057aba685c5f8",
    "collapsed": true,
    "scrolled": true
   },
   "outputs": [
    {
     "data": {
      "text/html": [
       "\n",
       "        <iframe\n",
       "            width=\"985\"\n",
       "            height=\"1000\"\n",
       "            src=\"https://public.tableau.com/views/RecordsLost/Dashboard?:embed=y&:display_count=yes&:showVizHome=no\"\n",
       "            frameborder=\"0\"\n",
       "            allowfullscreen\n",
       "        ></iframe>\n",
       "        "
      ],
      "text/plain": [
       "<IPython.lib.display.IFrame at 0x7faab0393c50>"
      ]
     },
     "execution_count": 1,
     "metadata": {},
     "output_type": "execute_result"
    }
   ],
   "source": [
    "# Import module\n",
    "from IPython.display import IFrame\n",
    "\n",
    "# Import Tableau Visualization \n",
    "IFrame('https://public.tableau.com/views/RecordsLost/Dashboard?:embed=y&:display_count=yes&:showVizHome=no', width=985, height=1000)"
   ]
  },
  {
   "cell_type": "markdown",
   "metadata": {
    "_uuid": "4413cb5dba53ceb21a298168aff07c56144d9528"
   },
   "source": [
    "## **5.- References**\n",
    "\n",
    "I had the idea from Pavan Sanagapati and his kernel [EDA Tableau Visualisation - Flight Data](https://www.kaggle.com/pavansanagapati/eda-tableau-visualisation-flight-data).\n",
    "\n",
    "Some other amazing Kaggle kernels using Tableau:\n",
    "\n",
    "* [Exploratory Data Analysis - Global Terrorism](https://www.kaggle.com/pavansanagapati/eda-with-tableau-visualisation) by Pavan Sanagapati. \n",
    "\n",
    "* [EDA - Tableau & Alteryx Integration](https://www.kaggle.com/pavansanagapati/eda-tableau-alteryx-integration) by Pavan Sanagapati.\n",
    "\n",
    "* [Tableau Data Visualisation using Sankey](https://www.kaggle.com/pavansanagapati/tableau-data-visualisation-using-sankey) by Pavan Sanagapati.\n",
    "\n",
    "* [EDA of Lending Loan Data with Tableau](https://www.kaggle.com/nursah/eda-of-lending-loan-data-with-tableau) by Nurşah.\n",
    "\n",
    "* [Titanic EDA with Tableau](https://www.kaggle.com/parulpandey/titanic-eda-with-tableau)  by Parul Pandey.\n",
    "\n",
    "* [EDA using Tableau Visualizations](https://www.kaggle.com/nikhilncr/eda-using-tableau-visualizations) by Nikhil C R.\n",
    "\n",
    "* [Google Customer Revenue: EDA with Tableau](https://www.kaggle.com/tatianass/google-customer-revenue-eda-with-tableau) by Tatiana Saturno."
   ]
  },
  {
   "cell_type": "markdown",
   "metadata": {},
   "source": [
    "Thank you for checking out my kernel! I’ve had a great time doing it and I have learned a lot, I didn't know that Tableau dashboards can be integrated in Python notebooks. Please upvote or comment if you like it."
   ]
  }
 ],
 "metadata": {
  "kernelspec": {
   "display_name": "Python 3",
   "language": "python",
   "name": "python3"
  },
  "language_info": {
   "codemirror_mode": {
    "name": "ipython",
    "version": 3
   },
   "file_extension": ".py",
   "mimetype": "text/x-python",
   "name": "python",
   "nbconvert_exporter": "python",
   "pygments_lexer": "ipython3",
   "version": "3.6.6"
  }
 },
 "nbformat": 4,
 "nbformat_minor": 1
}
